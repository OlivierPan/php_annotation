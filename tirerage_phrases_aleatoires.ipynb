{
 "cells": [
  {
   "cell_type": "code",
   "execution_count": 6,
   "metadata": {},
   "outputs": [
    {
     "name": "stdout",
     "output_type": "stream",
     "text": [
      "[['MurailMaloDeLangeIntÈgraleMÈdiumPoche.txt', '- Personne n’aime personne.', 'Je regardai s’éloigner ce pauvre moineau de Gaby, sautillant entre les flaques de boue. Savait-elle seulement où elle allait passer la nuit ? Moi, en revanche, j’avais un projet, un projet qui me mena tout droit rue des Prouvaires.', 'Gaby avait raison  : cette rue n’était pas longue . En passant devant le volet baissé d’une boucherie chevaline , je pensai soudain à ce conte où le chasseur doit rapporter à la méchante reine le foie et les poumons de Blanche-Neige comme preuves de sa mort . Où vivait l’enfant dont on voulait arracher le cœur ? Dans cette maison bourgeoise ?', 'Derrière cette fenêtre éclairée ?', 'J’avais décidé de monter la garde jusqu’au matin. Comme la neige s’était remise à tomber à gros flocons, je m’abritai sous un porche en face de la boucherie. Les longues stations solitaires dans la nuit et le froid, ce n’est pas le meilleur aspect du métier, comme disait l’Éventreur du Châtelet. Je songeai à la tiédeur du Lapin Volant, au tintement amical des verres, au bon souper de la mère Gargoton, et je me décollai du mur. Bah, une nuit pareille, même les assassins restent chez eux.'], ['MurailMaloDeLangeIntÈgraleMÈdiumPoche.txt', '- Oh, oui, pitié, pitié ! fit Toto en joignant les mains.', 'Je sais par cœur mes déclinaisons.', 'Il se mit à réciter à toute vitesse  :', '- Civis, civis, civem, civis, civi, cive…', '- C’est bon, c’est bon, grommela son précepteur, qui était brave garçon. Mais il est sous votre responsabilité pendant la récréation, monsieur de Lange.'], ['MurailMaloDeLangeIntÈgraleMÈdiumPoche.txt', 'Il a l’œillet à la boutonnière.', 'Une fois qu’il eut compris ce que je lui disais, le général resta un moment méditatif.', '- Tant qu’il n’a rien fait , dit-il enfin , nous ne pouvons pas l’arrêter .', '- Mais Trimbaldière est un ami du proviseur. Il faut peut-être retirer les princes du collège ?', '- Louis-Philippe refusera.'], ['MurailMaloDeLangeIntÈgraleMÈdiumPoche.txt', 'Il m’attrapa brutalement par la veste pour me forcer à me relever.', '- Alors, le trésor était dans le coffre, hein ? Tu l’as cru ?', 'Mais t’es aussi sinve que ce Bourguignon qui croit nous espionner ! Allez , debout , sors de là !', 'Je ne tenais pas sur mes jambes, elles se dérobaient sous moi. Mais, à la force des bras, il me souleva hors du coffre et me jeta à terre.', '- Il est armé ! prévint Picpoc.'], ['MurailMaloDeLangeIntÈgraleMÈdiumPoche.txt', '- À la fenêtre, répondit le groom.', '- Diable ! s’écria le médecin en l’apercevant.', '- Comme vous dites , soupira l’abbé .', 'Le médecin s’approcha du cadavre, conclut à une mort par strangulation, mais trouva fort étrange cette pendaison.', '- Voyez, les pieds touchent encore terre. Et puis comment le duc a-t-il pu se passer lui-même la cravate autour du cou et l’attacher à l’espagnolette ? Il ne pouvait pas lever le bras droit par suite d’une fracture à la clavicule. Je le sais, c’est moi qui l’ai soigné après son accident de chasse. Et sa main gauche était toute déformée par l’arthrite, il ne pouvait pas s’en servir.'], ['MurailMaloDeLangeIntÈgraleMÈdiumPoche.txt', '- Vous, Janvier, qu’est-ce que vous pensez de Saint-Just ?', '- Ceci, Malo : si vous êtes un grinche ou même seulement un pégriot, évitez-le. Je ne crois pas qu’il soit de votre côté.', 'Puis , voyant mon abattement , il alla chercher un verre et une tasse qui constituaient toute sa vaisselle et nous versa du vin .', '- À la santé de La Bouillie ! s’écria-t-il, le verre levé.', '- Vous voulez dire : à la santé de Lucie ?'], ['MurailMaloDeLangeIntÈgraleMÈdiumPoche.txt', 'Entrebâillant le carton, il en sortit deux chapeaux fleuris absolument pas froissés, quatre tourterelles vivantes qui s’envolèrent jusqu’à leur perchoir, une cage avec des canaris, puis trois énormes casseroles en cuivre, la première remplie de haricots fumants, la deuxième d’eau bouillante, et la troisième était en feu ! Chaque nouvelle apparition était saluée de rires étonnés.', '- Et vous allez voir, me souffla mon voisin, très excité, il va sortir le singe !', 'Mais ce fut une tête d’enfant qui jaillit du carton , suivie du corps d’un petit garçon que le magicien prit à son cou .', 'Tous deux saluèrent l’assistance.', '- Maintenant, m’assura mon voisin, vous allez voir le singe qui flotte dans les airs. C’est incroyable !'], ['MurailLAssassinEstAuCollegeMedium.txt', '- Surprise ! dis-je en repoussant la porte.', '- Que… qu’est-ce que vous foutez ici ? hurle Alban.', '- La même chose que vous . Je protège Axel .', 'Puisque l’assassin court toujours. J’ai eu une bonne qu’un assassin acculé devient une bête fauve. Soudain, Alban plonge la main dans sa poche gauche.', '- Attention, Nils ! crie Axel.'], ['MurailMaloDeLangeIntÈgraleMÈdiumPoche.txt', 'Elle fit le geste de donner un coup de couteau et ajouta froidement :', '- Tu le butes.', 'Pour aimer La Bouillie , il fallait connaître son histoire .', 'Elle avait passé les premières années de sa vie au Lapin Volant, un cabaret de la rue Cloche-Perce à Paris. Sa mère l’avait vendue à la patronne que tout le monde appelait « l’ogresse », sans doute à cause de son amour exagéré des petits enfants.', 'Dès qu’elle fut en âge de tenir debout, La Bouillie servit les * T’es bête. T’as pas ton couteau ? clients du Lapin Volant, tous des voleurs et des filles de rue, d’ailleurs des braves gens, mais qui avaient la mauvaise habitude de finir leurs disputes au couteau. Un jour, la police vint mettre un peu d’ordre au Lapin Volant, l’ogresse se retrouva à la prison de Saint-Lazare, et La Bouillie fut conduite à l’hospice de l’abbé Pigrièche. La Bouillie n’avait pas une bonne opinion de lui :'], ['MurailMaloDeLangeIntÈgraleMÈdiumPoche.txt', 'Le juge changea de tactique et m’attaqua sur mon déguisement : n’était-ce pas la preuve d’une préméditation ?', '- C’est la faute à madame l’intendante, répondis-je. Elle voulait pas d’un valet, mais elle voulait bien d’une chambrière.', '- Et ce pistolet , ce couteau , pour quoi faire ?', '- On m’a dit à la ferme : méfie-toi des brigands à Paris.', 'Et vous voyez qu’ils avaient raison. Y avait un brigand cette nuit chez m’sieur le duc.'], ['MurailMaloDeLangeIntÈgraleMÈdiumPoche.txt', 'Elle m’expliqua ce qu’elle appelait ma mission. Le Lapin Volant comportait trois étages. Plus on montait, plus les gens étaient dangereux. Les grinches de la haute pègre se réunissaient au troisième étage et, quand ils préparaient un mauvais coup, une trappe dans le plafond leur permettait de s’isoler au grenier. C’était là que se décidaient les cambriolages des bijouteries et les assassinats des riches bourgeois.', '- Il y a quelque chose qui se prépare ces jours-ci au Lapin Volant, me dit la Perlouze, et je veux savoir quoi.', '- Pour avoir votre part du gâteau ?', 'Un éclair bleu jaillit des yeux noirs.', '- C’est ta façon de voir les choses ?'], ['MurailMaloDeLangeIntÈgraleMÈdiumPoche.txt', 'Comme nous partîmes un dimanche, tante Amélie put faire une dernière chose : elle acheta un bonhomme en pain d’épice.', 'J’étais si bien habitué au Lapin Volant que je n’avais pas pensé à l’effet qu’il produirait sur une vieille demoiselle qui n’avait jamais quitté sa province. Mais elle n’eut pas vraiment le temps d’avoir peur, car elle se trouva entourée dès son arrivée par Bourguignon, Janvier et La Bouillie.', '- Et le petit , où est le petit ? voulut-elle savoir aussitôt .', 'La Bouillie et Janvier échangèrent un regard et je compris à leur air contraint qu’ils avaient une mauvaise nouvelle à annoncer. Je balbutiai :', '- Il… il n’est pas…'], ['MurailMaloDeLangeIntÈgraleMÈdiumPoche.txt', 'La police avait tendu un piège aux grinches, mais mon père venait aussi d’y tomber. Abandonnant mon poste, je courus à l’angle des rues d’Enghien et d’Hauteville et allai coller mon visage contre la grille d’entrée. Je cherchai à deviner ce qui se passait dans le jardin de l’autre côté. On entendait des jurons, des râles, mais on ne voyait rien. Si j’appelais, j’allais peut-être me faire tirer comme un lapin.', 'Mais mon père, mon père, où était-il ? Était-il mort, était-il seulement blessé ? Avait-il eu le temps de se faire reconnaître ? Les minutes passèrent, la nuit redevint calme. Un calme atroce…', 'Pendant toute cette journée , j’avais été parfois nerveux , tendu , inquiet . Mais je me sentais protégé . Soudain , j’étais seul . Sans mon chef , sans mon père , sans cet homme qui m’avait tiré du bagne , sauvé de la guillotine , sans ce monsieur Personne auquel je pensais si peu quand je vagabondais dans les rues . Appuyant mon front à la grille , je me mis à sangloter .', '- Mais qu’est-ce que tu fais là ? gronda une voix.', 'Je hurlai tout à la fois de terreur et de joie.'], ['MurailLAssassinEstAuCollegeMedium.txt', '- Que cela reste entre nous, dis-je en refermant le cahier.', 'Puis je m’assis sur le bureau, les jambes pendantes.', 'Le soleil par la fenêtre déversait sur moi sa lumière .', '- Ce jour-là, commençai-je, le Seigneur Râ apprit la naissance de son arrière-petit-fils et il le fit venir en son palais pour l’élever comme son héritier.', 'Osiris était son nom et le malheur sa destinée.'], ['MurailMaloDeLangeIntÈgraleMÈdiumPoche.txt', '* Vous fâchez pas : la porte n’est pas cassée.', '- Il nous embête, celui-là, marmonna Toto.', '- Que dites-vous , Montpensier ? lui demanda son précepteur .', '- Je dis que je veux mourir.', 'Il y eut un silence dans la carriole.'], ['MurailLAssassinEstAuCollegeMedium.txt', '- Mon rasoir en demi-lune ! hurla le guerrier.', '- Il nous casse tout ! firent les enfants aux abois.', '- Excusez-moi , monsieur Hazard , balbutia l’inspecteur , c’est que vraiment on n’y voit rien . Madame Zagulon m’a signalé que vous aviez des méthodes pédagogiques tout à fait novatrices …', 'La rosse, pensai-je.', '- … et je constate à quel point c’est exact, ajouta l’inspecteur mi-figue, mi-raisin. Pourriez-vous rouvrir les rideaux, jeune homme ?'], ['MurailMaloDeLangeIntÈgraleMÈdiumPoche.txt', '- Cette Moïra qui vient de s’échapper de la clinique du docteur Lablache ?', '- Elle n’est pas plus folle que…', '- Sais-tu qui a le pouvoir de faire interner les gens ? …', 'Le préfet de police.', 'Je fronçai les sourcils, soudain intrigué.'], ['MurailMaloDeLangeIntÈgraleMÈdiumPoche.txt', '- On pourrait aller manger ailleurs ?', '- Va au diable, si tu veux.', 'Bourguignon n’avait aucune envie de me décramponner . Il me suivit en tressaillant à chaque pas . Il me semblait qu’à tout moment quelque chose pouvait se détacher d’une porte cochère et devenir une bête , un monstre , un assassin , me barrant le chemin . Avant de grimper les sept marches qui précédaient la rue Cloche-Perce , je chuchotai à Bourguignon  :', '- À partir de maintenant, on est deux frères.', '- Formidable, se réjouit-il, croyant à une déclaration d’amitié.'], ['MurailMaloDeLangeIntÈgraleMÈdiumPoche.txt', '- Quand dois-je me rendre au château ?', '- Maintenant.', '- Un instant , général . Je préviens mon chef , dis-je en trempant une plume dans l’encrier .', 'J’écrivis : Chef, je vous dézobéis par ordre supérieure du roi.', 'Je vai au chatau.'], ['MurailMaloDeLangeIntÈgraleMÈdiumPoche.txt', 'Puis dans un cri, il répéta :', '- Va-t’en !', 'Je ne me le fis pas dire trois fois et je me retrouvai vite fait dans la galerie Véro-Dodat . Ce monsieur Personne , moitié cogne et moitié grinche , m’effrayait plus que jamais .', 'Mais j’étais content d’appartenir à ce qu’il appelait la brigade de Sûreté, même si je n’avais rien demandé. J’avançais si distraitement que je n’aperçus Janvier qu’une fois sous mon nez. Il était lui-même absorbé dans la contemplation d’une vitrine de chapelier.', '- François ?'], ['MurailLAssassinEstAuCollegeMedium.txt', '- Heu ? Il y a moi, monsieur Hazard.', 'Je traversai le hall, le cœur battant à coups désordonnés. Pourtant, il ne pouvait rien s’être passé.', 'Alcatraz , Boussicot et les autres internes n’étaient partis que depuis un quart d’heure .', 'Je grimpai l’escalier à grandes foulées silencieuses.', '- Oui ?'], ['MurailMaloDeLangeIntÈgraleMÈdiumPoche.txt', '- Si, dans un coffre, plein à ras bord, qui doit être déménagé demain.', 'Un coffre, j’en connaissais un, mais je n’en dis rien.', '- Depuis que La Bouillie ne dort plus à la cuisine , il n’y a personne au Lapin la nuit , remarqua Bourguignon . On pourrait fouiller ?', '- Tu as la clé de l’entrée ?', '- Non, mais je pensais que…'], ['MurailMaloDeLangeIntÈgraleMÈdiumPoche.txt', '- Ce n’est pas la peine, tante Briquebœuf, je suis content comme ça.', 'Malgré moi, j’espérais encore quelque chose. Je croyais que tante Briquebœuf allait le guérir et j’en voulais à Janvier et La Bouillie que je voyais pleurer dans les coins.', 'Tante Amélie défit un bagage , suspendit un ou deux vêtements dans l’armoire . Elle avait l’intention de veiller sur Craquelin . Je savais que la nuit serait mauvaise , que Craquelin se plaindrait , qu’il aurait mal dans les os et tremblerait de fièvre .', '- Je vais dormir avec Bourguignon dans la cave, ma tante, dis-je, soulagé qu’une grande personne prît ma place.', 'Mais la nuit n’était pas finie quand je vins prendre des nouvelles. Ma tante était emmitouflée dans des châles, échevelée, les yeux rouges. Elle n’avait pas dormi. Elle prit mes mains dans les siennes et les serra.']]\n"
     ]
    }
   ],
   "source": [
    "from os import listdir\n",
    "import os\n",
    "from os.path import isfile, join\n",
    "import random\n",
    "import re\n",
    "import pandas as pd\n",
    "\n",
    "def tirerphrasesaleatoire(repertoire):\n",
    "    all_phrases_repertoire = list()\n",
    "    dico_index = dict()\n",
    "    for file in os.listdir(repertoire):\n",
    "        if file[0] =='.':continue\n",
    "        path_to_file = os.path.join(repertoire,file)\n",
    "        with open(path_to_file,\"r\",encoding=\"utf-8\") as fichier:\n",
    "            texte = fichier.read()\n",
    "            list_phrase = texte.split(\"\\n\")\n",
    "            nb_phrases_txt = len(list_phrase)\n",
    "        nb_phrases_somme = len(all_phrases_repertoire)\n",
    "        nb_phrases_somme = len(all_phrases_repertoire)\n",
    "        all_phrases_repertoire.extend(list_phrase)\n",
    "        dico_index[file] = ([nb_phrases_somme,nb_phrases_somme+nb_phrases_txt])\n",
    "    phrases_chosen = random.sample(all_phrases_repertoire,100)\n",
    "    dico_lst = []\n",
    "    try:\n",
    "        i = 0\n",
    "        for phrase in phrases_chosen:#!!!!!!!!!!!\n",
    "            if len(phrase) > 30:#!!!!!!!!!!!!!!\n",
    "                index = all_phrases_repertoire.index(phrase)\n",
    "                if len(all_phrases_repertoire[index-2])>0 or len(all_phrases_repertoire[index-1])>0:\n",
    "                    if len(all_phrases_repertoire[index+2]) or len(all_phrases_repertoire[index+1])>0:\n",
    "                        if i < 23:#!!!!!!!!!!!!!!!\n",
    "                            i+=1\n",
    "                    #index = all_phrases_repertoire.index(phrase)\n",
    "                            for titre, phrase_seg in dico_index.items():\n",
    "                                if index in range(phrase_seg[0],phrase_seg[1]):\n",
    "                                    phrase = phrase.replace(',',' ,').replace('(','( ').replace(')',' )').replace(';',' ;').replace(':',' :').replace('«','« ').replace('»',' »').replace('…',' …').replace('.',' .')\n",
    "                                    dico_lst.extend([[titre,all_phrases_repertoire[index-2],all_phrases_repertoire[index-1],phrase,all_phrases_repertoire[index+1],all_phrases_repertoire[index+2]]])\n",
    "                        else:\n",
    "                            break\n",
    "    except:\n",
    "        print('something wrong!')\n",
    "    return dico_lst\n",
    "    \n",
    "            \n",
    "dic_final = tirerphrasesaleatoire('./Murail/Murail_TXT')\n",
    "print(dic_final)\n",
    "table = pd.DataFrame(dic_final,columns =['titre', '1','2','3','4','5'])\n",
    "                                                       \n",
    "table.to_csv('Murail.csv')\n"
   ]
  },
  {
   "cell_type": "code",
   "execution_count": null,
   "metadata": {},
   "outputs": [],
   "source": [
    "def filtred_data(repertoire, max_len=5000, min_len=2, threshold_pred=0.90):\n",
    "    \"\"\"\n",
    "    input: str(path_to_dir)\n",
    "    ouput:\n",
    "    \"\"\"\n",
    "    for file in os.listdir(repertoire):\n",
    "        if file[0] == '.': continue\n",
    "        path_to_file = os.path.join(repertoire, file)\n",
    "        with open(path_to_file, \"r\", encoding=\"utf-8\") as fichier:\n",
    "            texte = fichier.read()\n",
    "            len_texte = get_len_file(texte)\n",
    "            if filtre_length(len_texte, max_len, min_len) is True:\n",
    "                if filtre_lang(texte, threshold_pred) is True:\n",
    "                    create_white_black_lists(path_to_file,\"white\")\n",
    "                else:\n",
    "                    create_white_black_lists(path_to_file,\"black\")\n",
    "            else:\n",
    "                create_white_black_lists(path_to_file, \"black\")\n",
    "    return True"
   ]
  }
 ],
 "metadata": {
  "kernelspec": {
   "display_name": "Python 3",
   "language": "python",
   "name": "python3"
  },
  "language_info": {
   "codemirror_mode": {
    "name": "ipython",
    "version": 3
   },
   "file_extension": ".py",
   "mimetype": "text/x-python",
   "name": "python",
   "nbconvert_exporter": "python",
   "pygments_lexer": "ipython3",
   "version": "3.7.0"
  }
 },
 "nbformat": 4,
 "nbformat_minor": 2
}
